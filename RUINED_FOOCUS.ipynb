

from IPython.display import clear_output

!pip install pygit2==1.12.2
clear_output()
%cd /content
!git clone https://github.com/runew0lf/RuinedFooocus.git
%cd /content/RuinedFooocus
clear_output()




clear_output()
!python entry2_with_update.py --share
